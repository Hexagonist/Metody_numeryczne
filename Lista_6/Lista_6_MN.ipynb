{
 "cells": [
  {
   "cell_type": "markdown",
   "id": "a63487e2",
   "metadata": {},
   "source": [
    "### Metody numeryczne 1 - Lista 6"
   ]
  },
  {
   "cell_type": "markdown",
   "id": "89944d84",
   "metadata": {},
   "source": [
    "#### Zadanie 1:\n",
    "\n",
    "Korzystając z metody różnicy centralnej rzędu $h^4$ oblicz pierwszą, drugą i trzecią pochodną funkcji\n",
    "\n",
    "$$f(x)=\\ln\\left(\\tanh\\left(\\,\\frac{x}{x^2+1}\\right)\\,\\right) $$\n",
    "\n",
    "w punkcie $x=0.2$. Dla jakich wartości $h$ obliczone pochodne mają największą dokładność?\n",
    "\n",
    "#### Rozwiązanie:"
   ]
  },
  {
   "cell_type": "code",
   "execution_count": 11,
   "id": "7a6cd58b-4c23-46b3-bcb6-c37972403a14",
   "metadata": {},
   "outputs": [
    {
     "name": "stdout",
     "output_type": "stream",
     "text": [
      "h = 0.1\n",
      "First derivative: 0.05004158704259616\n",
      "Second derivative: -30.89979865963696\n",
      "Third derivative: 30.024952225557694\n",
      "\n",
      "h = 0.01\n",
      "First derivative: 0.0004507776513569517\n",
      "Second derivative: -27.17239442265429\n",
      "Third derivative: 27.046659081417097\n",
      "\n",
      "h = 0.001\n",
      "First derivative: 4.503569199989177e-06\n",
      "Second derivative: -27.141499541860625\n",
      "Third derivative: 27.021415199935063\n",
      "\n",
      "h = 0.0001\n",
      "First derivative: 4.503527188719492e-08\n",
      "Second derivative: -27.14119111679736\n",
      "Third derivative: 27.02116313231695\n",
      "\n",
      "h = 1e-05\n",
      "First derivative: 4.503526768628863e-10\n",
      "Second derivative: -27.141189296031595\n",
      "Third derivative: 27.021160611773173\n",
      "\n"
     ]
    }
   ],
   "source": [
    "import numpy as np\n",
    "import math\n",
    "\n",
    "# Mateusz Wójcicki ISSP sem 3\n",
    "\n",
    "# derivatives equations from:  https://www.if.pw.edu.pl/~agatka/numeryczne/wyklad_06.pdf\n",
    "# Third equation calculated based on video: https://www.youtube.com/watch?v=Tfo12ylAMso\n",
    "\n",
    "def f(x):\n",
    "    return np.log(np.tanh(x / (x**2 + 1)))\n",
    "\n",
    "def first_derivative(x, h):\n",
    "    return (f(x+h)-f(x-h))/2*h\n",
    "\n",
    "def second_derivative(x, h):\n",
    "    return (f(x+h)-2*f(x)+f(x-h))/h**2\n",
    "\n",
    "\n",
    "def third_derivative(x, h):\n",
    "    return 6*h**2*(f(x+h)-f(x-h))/(2*h**3)\n",
    "    \n",
    "x = 0.2\n",
    "\n",
    "h_values = [0.1, 0.01, 0.001, 0.0001, 0.00001]\n",
    "\n",
    "for h in h_values:\n",
    "    first = first_derivative(x, h)\n",
    "    second = second_derivative(x, h)\n",
    "    third = third_derivative(x, h)\n",
    "    \n",
    "\n",
    "    print(f\"h = {h}\")\n",
    "    print(f\"First derivative: {first}\")\n",
    "    print(f\"Second derivative: {second}\")\n",
    "    print(f\"Third derivative: {third}\")\n",
    "    print() \n",
    "\n",
    "# Na to wygląda, że największą dokładność pochodne mają przy h jak najmniejszym"
   ]
  },
  {
   "cell_type": "markdown",
   "id": "736b7c02",
   "metadata": {},
   "source": [
    "#### Zadanie 2:\n",
    "\n",
    "Na podstawie danych z tabeli oblicz $f’(0.2)$ najdokładniej, jak to tylko możliwe:\n",
    "\n",
    "|$$x$$|<span style=\"font-weight:normal\"> 0.0</span>|<span style=\"font-weight:normal\"> 0.1</span>|<span style=\"font-weight:normal\"> 0.2</span>|<span style=\"font-weight:normal\"> 0.3</span>|<span style=\"font-weight:normal\"> 0.4</span>|\n",
    "|:-:|:-:|:-:|:-:|:-:|:-:|\n",
    "|$$f(x)$$ |0.0|0.078348 | 0.13891 |0.192916 |0.244981|\n",
    "\n",
    "#### Rozwiązanie:"
   ]
  },
  {
   "cell_type": "code",
   "execution_count": 22,
   "id": "86e75c63",
   "metadata": {},
   "outputs": [
    {
     "name": "stdout",
     "output_type": "stream",
     "text": [
      "The numerical derivative at x=0.2: 0.57284\n"
     ]
    }
   ],
   "source": [
    "import numpy as np\n",
    "\n",
    "x = [round(i * 0.1, 1) for i in range(5)]\n",
    "val = [0.0, 0.078348, 0.13891, 0.192916, 0.244981]\n",
    "\n",
    "# Central differences\n",
    "dx = x[1] - x[0] \n",
    "\n",
    "derivative_result = np.gradient(val, dx)\n",
    "\n",
    "# Display the result\n",
    "print(f'The numerical derivative at x=0.2: {derivative_result[2]}')"
   ]
  },
  {
   "cell_type": "markdown",
   "id": "5e9b8586",
   "metadata": {},
   "source": [
    "#### Zadanie 3:\n",
    "\n",
    "Korzystając z interpolacji wielomianowej, oblicz $f’(0)$ i $f’’(0)$, jeśli\n",
    "\n",
    "|$$x$$|<span style=\"font-weight:normal\"> -2.2</span>|<span style=\"font-weight:normal\"> -0.3</span>|<span style=\"font-weight:normal\"> 0.8</span>|<span style=\"font-weight:normal\"> 1.9</span>|\n",
    "|:-:|:-:|:-:|:-:|:-:|\n",
    "|$$f(x)$$ |-15.18 | 10.962|1.92 |-2.04|\n",
    "\n",
    "#### Rozwiązanie:"
   ]
  },
  {
   "cell_type": "code",
   "execution_count": 25,
   "id": "e95a9420",
   "metadata": {},
   "outputs": [
    {
     "name": "stdout",
     "output_type": "stream",
     "text": [
      "Function value in x=0.0: 9.04039024390244\n",
      "First derivative in x=0.0: -7.637637997432609\n",
      "Second derivative in x=0.0: -6.83568677792041\n"
     ]
    }
   ],
   "source": [
    "import numpy as np\n",
    "from scipy.interpolate import lagrange\n",
    "\n",
    "x_data = np.array([-2.2, -0.3, 0.8, 1.9])\n",
    "y_data = np.array([-15.18, 10.962, 1.92, -2.04])\n",
    "\n",
    "# Interpolation\n",
    "poly = lagrange(x_data, y_data)\n",
    "\n",
    "x_eval = 0.0\n",
    "\n",
    "# First derivative\n",
    "derivative_1 = np.polyder(poly)\n",
    "result_1 = np.polyval(derivative_1, x_eval)\n",
    "\n",
    "# Second derivative\n",
    "derivative_2 = np.polyder(derivative_1)\n",
    "result_2 = np.polyval(derivative_2, x_eval)\n",
    "\n",
    "# Results\n",
    "print(f'Function value in x={x_eval}: {np.polyval(poly, x_eval)}')\n",
    "print(f'First derivative in x={x_eval}: {result_1}')\n",
    "print(f'Second derivative in x={x_eval}: {result_2}')\n"
   ]
  },
  {
   "cell_type": "markdown",
   "id": "bbca94c0",
   "metadata": {},
   "source": [
    "#### Zadanie 4:\n",
    "\n",
    "Oblicz całkę\n",
    "\n",
    "$$\\int\\limits^{1}\\limits_{-1}\\cos\\left(2\\cos^{-1}\\,x\\right)dx$$\n",
    "\n",
    "korzystając ze wzoru Simpsona dla 3, 5 i 7 węzłów. Wyjaśnij wyniki.\n",
    "\n",
    "\n",
    "#### Rozwiązanie:"
   ]
  },
  {
   "cell_type": "code",
   "execution_count": 53,
   "id": "c55de682",
   "metadata": {},
   "outputs": [
    {
     "name": "stdout",
     "output_type": "stream",
     "text": [
      "Wynik dla 1 węzłów: 1.3333333333333333\n",
      "Wynik dla 2 węzłów: -0.6666666666666666\n",
      "Wynik dla 3 węzłów: -0.5925925925925926\n",
      "Wynik dla 4 węzłów: -0.6666666666666665\n",
      "Wynik dla 5 węzłów: -0.6933333333333334\n",
      "Wynik dla 7 węzłów: -0.707482993197279\n",
      "Wynik dla 8 węzłów: -0.6666666666666666\n",
      "Wynik dla 9 węzłów: -0.7078189300411524\n",
      "Wynik dla 10 węzłów: -0.6666666666666664\n"
     ]
    }
   ],
   "source": [
    "import numpy as np\n",
    "\n",
    "def f(x):\n",
    "    return np.cos(2 * np.arccos(x))\n",
    "\n",
    "def simpson_rule(func, a, b, n):\n",
    "    h = (b - a) / n\n",
    "    result = func(a) + func(b)\n",
    "\n",
    "    for i in range(1, n):\n",
    "        x = a + i * h\n",
    "        if i % 2 == 0:\n",
    "            result += 2 * func(x)\n",
    "        else:\n",
    "            result += 4 * func(x)\n",
    "\n",
    "    result *= h / 3\n",
    "    return result\n",
    "\n",
    "# Granice całkowania\n",
    "a = -1\n",
    "b = 1\n",
    "\n",
    "# Liczba węzłów\n",
    "nodes = [1, 2, 3, 4, 5, 7, 8, 9, 10]\n",
    "\n",
    "# Obliczenia i wyniki\n",
    "for n in nodes:\n",
    "    result = simpson_rule(f, a, b, n)\n",
    "    print(f'Wynik dla {n} węzłów: {result}')\n",
    "\n",
    "# Wyniki dla węzłów 3, 5, 7 i wszystkich nieparzystych są nieprawidłowe ponieważ wzór Simpson'a nie działa dla węzłów nieparzystych (n musi być parzyste)."
   ]
  },
  {
   "cell_type": "markdown",
   "id": "ebbcb594",
   "metadata": {},
   "source": [
    "#### Zadanie 5:\n",
    "\n",
    "Okres $T$ wahadła matematycznego o długości $L$ zadany jest wzorem\n",
    "\n",
    "$$T=4\\sqrt{\\frac{L}{g}}h(\\theta_0)\\,,$$\n",
    "\n",
    "gdzie $g$ to przyspieszenie ziemskie, a $\\theta_0$ to amplituda oraz\n",
    "\n",
    "$$h(\\theta_0)=\\int\\limits_0^{\\pi/2}\\frac{d\\theta}{1-\\sin^2\\left(\\frac{\\theta_0}{2}\\right)\\sin^2\\theta}\\,.$$\n",
    "\n",
    "Oblicz $h(15^\\circ)$, $h(30^\\circ)$ i $h(45^\\circ)$. Porównaj te wartości z $h(0) = \\pi/2$ stosowanym\n",
    "w przybliżeniu harmonicznym.\n",
    "\n",
    "#### Rozwiązanie:"
   ]
  },
  {
   "cell_type": "code",
   "execution_count": null,
   "id": "aa724e26",
   "metadata": {},
   "outputs": [],
   "source": []
  },
  {
   "cell_type": "markdown",
   "id": "370f3178",
   "metadata": {},
   "source": [
    "#### Zadanie 6:\n",
    "\n",
    "Oblicz całkę\n",
    "\n",
    "\n",
    "$$\\int\\limits^{\\pi}_1\\frac{\\ln\\,x}{x^2-2x+2}dx$$\n",
    "\n",
    "metodą Gaussa-Legendre’a dla 2 i 4 węzłów.\n",
    "\n",
    "#### Rozwiązanie:"
   ]
  },
  {
   "cell_type": "code",
   "execution_count": 87,
   "id": "eecfbe8d",
   "metadata": {},
   "outputs": [
    {
     "ename": "TypeError",
     "evalue": "f() takes 1 positional argument but 2 were given",
     "output_type": "error",
     "traceback": [
      "\u001b[1;31m---------------------------------------------------------------------------\u001b[0m",
      "\u001b[1;31mTypeError\u001b[0m                                 Traceback (most recent call last)",
      "Cell \u001b[1;32mIn[87], line 17\u001b[0m\n\u001b[0;32m     13\u001b[0m nodes_4, weights_4 \u001b[38;5;241m=\u001b[39m np\u001b[38;5;241m.\u001b[39mpolynomial\u001b[38;5;241m.\u001b[39mlegendre\u001b[38;5;241m.\u001b[39mleggauss(\u001b[38;5;241m4\u001b[39m)\n\u001b[0;32m     16\u001b[0m \u001b[38;5;66;03m# 2 nodes\u001b[39;00m\n\u001b[1;32m---> 17\u001b[0m integral_2, error_2 \u001b[38;5;241m=\u001b[39m \u001b[43mquadrature\u001b[49m\u001b[43m(\u001b[49m\u001b[43mf\u001b[49m\u001b[43m,\u001b[49m\u001b[43m \u001b[49m\u001b[43mt_a\u001b[49m\u001b[43m,\u001b[49m\u001b[43m \u001b[49m\u001b[43mt_b\u001b[49m\u001b[43m,\u001b[49m\u001b[43m \u001b[49m\u001b[43mnodes_2\u001b[49m\u001b[43m,\u001b[49m\u001b[43m \u001b[49m\u001b[43mweights_2\u001b[49m\u001b[43m)\u001b[49m\n\u001b[0;32m     19\u001b[0m \u001b[38;5;66;03m# 4 nodes\u001b[39;00m\n\u001b[0;32m     20\u001b[0m integral_4, error_4 \u001b[38;5;241m=\u001b[39m quadrature(f, t_a, t_b, nodes_4, weights_4)\n",
      "File \u001b[1;32m~\\AppData\\Local\\Programs\\Python\\Python311\\Lib\\site-packages\\scipy\\integrate\\_quadrature.py:363\u001b[0m, in \u001b[0;36mquadrature\u001b[1;34m(func, a, b, args, tol, rtol, maxiter, vec_func, miniter)\u001b[0m\n\u001b[0;32m    361\u001b[0m maxiter \u001b[38;5;241m=\u001b[39m \u001b[38;5;28mmax\u001b[39m(miniter\u001b[38;5;241m+\u001b[39m\u001b[38;5;241m1\u001b[39m, maxiter)\n\u001b[0;32m    362\u001b[0m \u001b[38;5;28;01mfor\u001b[39;00m n \u001b[38;5;129;01min\u001b[39;00m \u001b[38;5;28mrange\u001b[39m(miniter, maxiter\u001b[38;5;241m+\u001b[39m\u001b[38;5;241m1\u001b[39m):\n\u001b[1;32m--> 363\u001b[0m     newval \u001b[38;5;241m=\u001b[39m \u001b[43mfixed_quad\u001b[49m\u001b[43m(\u001b[49m\u001b[43mvfunc\u001b[49m\u001b[43m,\u001b[49m\u001b[43m \u001b[49m\u001b[43ma\u001b[49m\u001b[43m,\u001b[49m\u001b[43m \u001b[49m\u001b[43mb\u001b[49m\u001b[43m,\u001b[49m\u001b[43m \u001b[49m\u001b[43m(\u001b[49m\u001b[43m)\u001b[49m\u001b[43m,\u001b[49m\u001b[43m \u001b[49m\u001b[43mn\u001b[49m\u001b[43m)\u001b[49m[\u001b[38;5;241m0\u001b[39m]\n\u001b[0;32m    364\u001b[0m     err \u001b[38;5;241m=\u001b[39m \u001b[38;5;28mabs\u001b[39m(newval\u001b[38;5;241m-\u001b[39mval)\n\u001b[0;32m    365\u001b[0m     val \u001b[38;5;241m=\u001b[39m newval\n",
      "File \u001b[1;32m~\\AppData\\Local\\Programs\\Python\\Python311\\Lib\\site-packages\\scipy\\integrate\\_quadrature.py:243\u001b[0m, in \u001b[0;36mfixed_quad\u001b[1;34m(func, a, b, args, n)\u001b[0m\n\u001b[0;32m    240\u001b[0m     \u001b[38;5;28;01mraise\u001b[39;00m \u001b[38;5;167;01mValueError\u001b[39;00m(\u001b[38;5;124m\"\u001b[39m\u001b[38;5;124mGaussian quadrature is only available for \u001b[39m\u001b[38;5;124m\"\u001b[39m\n\u001b[0;32m    241\u001b[0m                      \u001b[38;5;124m\"\u001b[39m\u001b[38;5;124mfinite limits.\u001b[39m\u001b[38;5;124m\"\u001b[39m)\n\u001b[0;32m    242\u001b[0m y \u001b[38;5;241m=\u001b[39m (b\u001b[38;5;241m-\u001b[39ma)\u001b[38;5;241m*\u001b[39m(x\u001b[38;5;241m+\u001b[39m\u001b[38;5;241m1\u001b[39m)\u001b[38;5;241m/\u001b[39m\u001b[38;5;241m2.0\u001b[39m \u001b[38;5;241m+\u001b[39m a\n\u001b[1;32m--> 243\u001b[0m \u001b[38;5;28;01mreturn\u001b[39;00m (b\u001b[38;5;241m-\u001b[39ma)\u001b[38;5;241m/\u001b[39m\u001b[38;5;241m2.0\u001b[39m \u001b[38;5;241m*\u001b[39m np\u001b[38;5;241m.\u001b[39msum(w\u001b[38;5;241m*\u001b[39m\u001b[43mfunc\u001b[49m\u001b[43m(\u001b[49m\u001b[43my\u001b[49m\u001b[43m,\u001b[49m\u001b[43m \u001b[49m\u001b[38;5;241;43m*\u001b[39;49m\u001b[43margs\u001b[49m\u001b[43m)\u001b[49m, axis\u001b[38;5;241m=\u001b[39m\u001b[38;5;241m-\u001b[39m\u001b[38;5;241m1\u001b[39m), \u001b[38;5;28;01mNone\u001b[39;00m\n",
      "File \u001b[1;32m~\\AppData\\Local\\Programs\\Python\\Python311\\Lib\\site-packages\\scipy\\integrate\\_quadrature.py:273\u001b[0m, in \u001b[0;36mvectorize1.<locals>.vfunc\u001b[1;34m(x)\u001b[0m\n\u001b[0;32m    272\u001b[0m \u001b[38;5;28;01mdef\u001b[39;00m \u001b[38;5;21mvfunc\u001b[39m(x):\n\u001b[1;32m--> 273\u001b[0m     \u001b[38;5;28;01mreturn\u001b[39;00m \u001b[43mfunc\u001b[49m\u001b[43m(\u001b[49m\u001b[43mx\u001b[49m\u001b[43m,\u001b[49m\u001b[43m \u001b[49m\u001b[38;5;241;43m*\u001b[39;49m\u001b[43margs\u001b[49m\u001b[43m)\u001b[49m\n",
      "\u001b[1;31mTypeError\u001b[0m: f() takes 1 positional argument but 2 were given"
     ]
    }
   ],
   "source": [
    "import numpy as np\n",
    "from scipy.integrate import quadrature\n",
    "\n",
    "def f(x):\n",
    "    return np.log(x) / (x**2 - 2*x + 2)\n",
    "\n",
    "a, b = 1, np.pi\n",
    "t_a = -1\n",
    "t_b = 1\n",
    "\n",
    "nodes_2, weights_2 = np.polynomial.legendre.leggauss(2)\n",
    "\n",
    "nodes_4, weights_4 = np.polynomial.legendre.leggauss(4)\n",
    "\n",
    "\n",
    "# 2 nodes\n",
    "integral_2, error_2 = quadrature(f, t_a, t_b, nodes_2, weights_2) # Error is here. I have no idea how to pass my values to quadrature correctly\n",
    "\n",
    "# 4 nodes\n",
    "integral_4, error_4 = quadrature(f, t_a, t_b, nodes_4, weights_4)\n",
    "\n",
    "print(f'2 nodes: {integral_2}')\n",
    "print(f'Error for 2 nodes: {error_2}')\n",
    "print(f'4 nodes: {integral_4}')\n",
    "print(f'Error for 4 nodes: {error_4}')\n"
   ]
  },
  {
   "cell_type": "code",
   "execution_count": 44,
   "id": "8586b94d-2565-4fe8-ab08-888437e35a8d",
   "metadata": {},
   "outputs": [
    {
     "ename": "TypeError",
     "evalue": "quadrature() got an unexpected keyword argument 'nodes'",
     "output_type": "error",
     "traceback": [
      "\u001b[1;31m---------------------------------------------------------------------------\u001b[0m",
      "\u001b[1;31mTypeError\u001b[0m                                 Traceback (most recent call last)",
      "Cell \u001b[1;32mIn[44], line 15\u001b[0m\n\u001b[0;32m     13\u001b[0m \u001b[38;5;66;03m# Funkcja całkująca dla 2 węzłów\u001b[39;00m\n\u001b[0;32m     14\u001b[0m nodes_2, weights_2 \u001b[38;5;241m=\u001b[39m np\u001b[38;5;241m.\u001b[39mpolynomial\u001b[38;5;241m.\u001b[39mlegendre\u001b[38;5;241m.\u001b[39mleggauss(\u001b[38;5;241m2\u001b[39m)\n\u001b[1;32m---> 15\u001b[0m integral_2, error_2 \u001b[38;5;241m=\u001b[39m \u001b[43mquadrature\u001b[49m\u001b[43m(\u001b[49m\u001b[43mf\u001b[49m\u001b[43m,\u001b[49m\u001b[43m \u001b[49m\u001b[43ma\u001b[49m\u001b[43m,\u001b[49m\u001b[43m \u001b[49m\u001b[43mb\u001b[49m\u001b[43m,\u001b[49m\u001b[43m \u001b[49m\u001b[43margs\u001b[49m\u001b[38;5;241;43m=\u001b[39;49m\u001b[43m(\u001b[49m\u001b[43mt_a\u001b[49m\u001b[43m,\u001b[49m\u001b[43m)\u001b[49m\u001b[43m,\u001b[49m\u001b[43m \u001b[49m\u001b[43mmaxiter\u001b[49m\u001b[38;5;241;43m=\u001b[39;49m\u001b[38;5;241;43m2\u001b[39;49m\u001b[43m,\u001b[49m\u001b[43m \u001b[49m\u001b[43mvec_func\u001b[49m\u001b[38;5;241;43m=\u001b[39;49m\u001b[38;5;28;43;01mFalse\u001b[39;49;00m\u001b[43m,\u001b[49m\u001b[43m \u001b[49m\u001b[43mnodes\u001b[49m\u001b[38;5;241;43m=\u001b[39;49m\u001b[43mnodes_2\u001b[49m\u001b[43m,\u001b[49m\u001b[43m \u001b[49m\u001b[43mweights\u001b[49m\u001b[38;5;241;43m=\u001b[39;49m\u001b[43mweights_2\u001b[49m\u001b[43m)\u001b[49m\n\u001b[0;32m     17\u001b[0m \u001b[38;5;66;03m# Funkcja całkująca dla 4 węzłów\u001b[39;00m\n\u001b[0;32m     18\u001b[0m nodes_4, weights_4 \u001b[38;5;241m=\u001b[39m np\u001b[38;5;241m.\u001b[39mpolynomial\u001b[38;5;241m.\u001b[39mlegendre\u001b[38;5;241m.\u001b[39mleggauss(\u001b[38;5;241m4\u001b[39m)\n",
      "\u001b[1;31mTypeError\u001b[0m: quadrature() got an unexpected keyword argument 'nodes'"
     ]
    }
   ],
   "source": [
    "import numpy as np\n",
    "from scipy.integrate import quadrature\n",
    "\n",
    "# Funkcja do całkowania\n",
    "def f(x, t):\n",
    "    return np.log(x) / (x**2 - 2*x + 2)\n",
    "\n",
    "# Przekształcenie granic całkowania\n",
    "a, b = 1, np.pi\n",
    "t_a = -1\n",
    "t_b = 1\n",
    "\n",
    "# Funkcja całkująca dla 2 węzłów\n",
    "nodes_2, weights_2 = np.polynomial.legendre.leggauss(2)\n",
    "integral_2, error_2 = quadrature(f, a, b, args=(t_a,), maxiter=2, vec_func=False, nodes=nodes_2, weights=weights_2)\n",
    "\n",
    "# Funkcja całkująca dla 4 węzłów\n",
    "nodes_4, weights_4 = np.polynomial.legendre.leggauss(4)\n",
    "integral_4, error_4 = quadrature(f, a, b, args=(t_b,), maxiter=4, vec_func=False, nodes=nodes_4, weights=weights_4)\n",
    "\n",
    "# Wyświetlenie wyników\n",
    "print(f'Wynik dla 2 węzłów: {integral_2}')\n",
    "print(f'Błąd dla 2 węzłów: {error_2}')\n",
    "print(f'Wynik dla 4 węzłów: {integral_4}') \n",
    "print(f'Błąd dla 4 węzłów: {error_4}')\n"
   ]
  },
  {
   "cell_type": "code",
   "execution_count": 29,
   "id": "330575a9-89c4-4899-8add-c989bd078702",
   "metadata": {
    "collapsed": true,
    "jupyter": {
     "outputs_hidden": true,
     "source_hidden": true
    },
    "scrolled": true
   },
   "outputs": [
    {
     "ename": "TypeError",
     "evalue": "f() takes 1 positional argument but 2 were given",
     "output_type": "error",
     "traceback": [
      "\u001b[1;31m---------------------------------------------------------------------------\u001b[0m",
      "\u001b[1;31mTypeError\u001b[0m                                 Traceback (most recent call last)",
      "Cell \u001b[1;32mIn[29], line 15\u001b[0m\n\u001b[0;32m     13\u001b[0m \u001b[38;5;66;03m# Funkcja całkująca dla 2 węzłów\u001b[39;00m\n\u001b[0;32m     14\u001b[0m nodes_2, weights_2 \u001b[38;5;241m=\u001b[39m np\u001b[38;5;241m.\u001b[39mpolynomial\u001b[38;5;241m.\u001b[39mlegendre\u001b[38;5;241m.\u001b[39mleggauss(\u001b[38;5;241m2\u001b[39m)\n\u001b[1;32m---> 15\u001b[0m integral_2, error_2 \u001b[38;5;241m=\u001b[39m \u001b[43mquadrature\u001b[49m\u001b[43m(\u001b[49m\u001b[43mf\u001b[49m\u001b[43m,\u001b[49m\u001b[43m \u001b[49m\u001b[43mt_a\u001b[49m\u001b[43m,\u001b[49m\u001b[43m \u001b[49m\u001b[43mt_b\u001b[49m\u001b[43m,\u001b[49m\u001b[43m \u001b[49m\u001b[43margs\u001b[49m\u001b[38;5;241;43m=\u001b[39;49m\u001b[43m(\u001b[49m\u001b[43mnodes_2\u001b[49m\u001b[43m,\u001b[49m\u001b[43m)\u001b[49m\u001b[43m,\u001b[49m\u001b[43m \u001b[49m\u001b[43mvec_func\u001b[49m\u001b[38;5;241;43m=\u001b[39;49m\u001b[38;5;28;43;01mFalse\u001b[39;49;00m\u001b[43m)\u001b[49m\n\u001b[0;32m     17\u001b[0m \u001b[38;5;66;03m# Funkcja całkująca dla 4 węzłów\u001b[39;00m\n\u001b[0;32m     18\u001b[0m nodes_4, weights_4 \u001b[38;5;241m=\u001b[39m np\u001b[38;5;241m.\u001b[39mpolynomial\u001b[38;5;241m.\u001b[39mlegendre\u001b[38;5;241m.\u001b[39mleggauss(\u001b[38;5;241m4\u001b[39m)\n",
      "File \u001b[1;32m~\\AppData\\Local\\Programs\\Python\\Python311\\Lib\\site-packages\\scipy\\integrate\\_quadrature.py:363\u001b[0m, in \u001b[0;36mquadrature\u001b[1;34m(func, a, b, args, tol, rtol, maxiter, vec_func, miniter)\u001b[0m\n\u001b[0;32m    361\u001b[0m maxiter \u001b[38;5;241m=\u001b[39m \u001b[38;5;28mmax\u001b[39m(miniter\u001b[38;5;241m+\u001b[39m\u001b[38;5;241m1\u001b[39m, maxiter)\n\u001b[0;32m    362\u001b[0m \u001b[38;5;28;01mfor\u001b[39;00m n \u001b[38;5;129;01min\u001b[39;00m \u001b[38;5;28mrange\u001b[39m(miniter, maxiter\u001b[38;5;241m+\u001b[39m\u001b[38;5;241m1\u001b[39m):\n\u001b[1;32m--> 363\u001b[0m     newval \u001b[38;5;241m=\u001b[39m \u001b[43mfixed_quad\u001b[49m\u001b[43m(\u001b[49m\u001b[43mvfunc\u001b[49m\u001b[43m,\u001b[49m\u001b[43m \u001b[49m\u001b[43ma\u001b[49m\u001b[43m,\u001b[49m\u001b[43m \u001b[49m\u001b[43mb\u001b[49m\u001b[43m,\u001b[49m\u001b[43m \u001b[49m\u001b[43m(\u001b[49m\u001b[43m)\u001b[49m\u001b[43m,\u001b[49m\u001b[43m \u001b[49m\u001b[43mn\u001b[49m\u001b[43m)\u001b[49m[\u001b[38;5;241m0\u001b[39m]\n\u001b[0;32m    364\u001b[0m     err \u001b[38;5;241m=\u001b[39m \u001b[38;5;28mabs\u001b[39m(newval\u001b[38;5;241m-\u001b[39mval)\n\u001b[0;32m    365\u001b[0m     val \u001b[38;5;241m=\u001b[39m newval\n",
      "File \u001b[1;32m~\\AppData\\Local\\Programs\\Python\\Python311\\Lib\\site-packages\\scipy\\integrate\\_quadrature.py:243\u001b[0m, in \u001b[0;36mfixed_quad\u001b[1;34m(func, a, b, args, n)\u001b[0m\n\u001b[0;32m    240\u001b[0m     \u001b[38;5;28;01mraise\u001b[39;00m \u001b[38;5;167;01mValueError\u001b[39;00m(\u001b[38;5;124m\"\u001b[39m\u001b[38;5;124mGaussian quadrature is only available for \u001b[39m\u001b[38;5;124m\"\u001b[39m\n\u001b[0;32m    241\u001b[0m                      \u001b[38;5;124m\"\u001b[39m\u001b[38;5;124mfinite limits.\u001b[39m\u001b[38;5;124m\"\u001b[39m)\n\u001b[0;32m    242\u001b[0m y \u001b[38;5;241m=\u001b[39m (b\u001b[38;5;241m-\u001b[39ma)\u001b[38;5;241m*\u001b[39m(x\u001b[38;5;241m+\u001b[39m\u001b[38;5;241m1\u001b[39m)\u001b[38;5;241m/\u001b[39m\u001b[38;5;241m2.0\u001b[39m \u001b[38;5;241m+\u001b[39m a\n\u001b[1;32m--> 243\u001b[0m \u001b[38;5;28;01mreturn\u001b[39;00m (b\u001b[38;5;241m-\u001b[39ma)\u001b[38;5;241m/\u001b[39m\u001b[38;5;241m2.0\u001b[39m \u001b[38;5;241m*\u001b[39m np\u001b[38;5;241m.\u001b[39msum(w\u001b[38;5;241m*\u001b[39m\u001b[43mfunc\u001b[49m\u001b[43m(\u001b[49m\u001b[43my\u001b[49m\u001b[43m,\u001b[49m\u001b[43m \u001b[49m\u001b[38;5;241;43m*\u001b[39;49m\u001b[43margs\u001b[49m\u001b[43m)\u001b[49m, axis\u001b[38;5;241m=\u001b[39m\u001b[38;5;241m-\u001b[39m\u001b[38;5;241m1\u001b[39m), \u001b[38;5;28;01mNone\u001b[39;00m\n",
      "File \u001b[1;32m~\\AppData\\Local\\Programs\\Python\\Python311\\Lib\\site-packages\\scipy\\integrate\\_quadrature.py:280\u001b[0m, in \u001b[0;36mvectorize1.<locals>.vfunc\u001b[1;34m(x)\u001b[0m\n\u001b[0;32m    278\u001b[0m x \u001b[38;5;241m=\u001b[39m np\u001b[38;5;241m.\u001b[39masarray(x)\n\u001b[0;32m    279\u001b[0m \u001b[38;5;66;03m# call with first point to get output type\u001b[39;00m\n\u001b[1;32m--> 280\u001b[0m y0 \u001b[38;5;241m=\u001b[39m \u001b[43mfunc\u001b[49m\u001b[43m(\u001b[49m\u001b[43mx\u001b[49m\u001b[43m[\u001b[49m\u001b[38;5;241;43m0\u001b[39;49m\u001b[43m]\u001b[49m\u001b[43m,\u001b[49m\u001b[43m \u001b[49m\u001b[38;5;241;43m*\u001b[39;49m\u001b[43margs\u001b[49m\u001b[43m)\u001b[49m\n\u001b[0;32m    281\u001b[0m n \u001b[38;5;241m=\u001b[39m \u001b[38;5;28mlen\u001b[39m(x)\n\u001b[0;32m    282\u001b[0m dtype \u001b[38;5;241m=\u001b[39m \u001b[38;5;28mgetattr\u001b[39m(y0, \u001b[38;5;124m'\u001b[39m\u001b[38;5;124mdtype\u001b[39m\u001b[38;5;124m'\u001b[39m, \u001b[38;5;28mtype\u001b[39m(y0))\n",
      "\u001b[1;31mTypeError\u001b[0m: f() takes 1 positional argument but 2 were given"
     ]
    }
   ],
   "source": [
    "# Version 2aimport numpy as np\n",
    "from scipy.integrate import quadrature\n",
    "\n",
    "# Funkcja do całkowania\n",
    "def f(x):\n",
    "    return np.log(x) / (x**2 - 2*x + 2)\n",
    "\n",
    "# Przekształcenie granic całkowania\n",
    "a, b = 1, np.pi\n",
    "t_a = -1\n",
    "t_b = 1\n",
    "\n",
    "# Funkcja całkująca dla 2 węzłów\n",
    "nodes_2, weights_2 = np.polynomial.legendre.leggauss(2)\n",
    "integral_2, error_2 = quadrature(f, t_a, t_b, args=(nodes_2,), vec_func=False)\n",
    "\n",
    "# Funkcja całkująca dla 4 węzłów\n",
    "nodes_4, weights_4 = np.polynomial.legendre.leggauss(4)\n",
    "integral_4, error_4 = quadrature(f, t_a, t_b, args=(nodes_4,), vec_func=False)\n",
    "\n",
    "# Wyświetlenie wyników\n",
    "print(f'Wynik dla 2 węzłów: {integral_2}')\n",
    "print(f'Błąd dla 2 węzłów: {error_2}')\n",
    "print(f'Wynik dla 4 węzłów: {integral_4}')\n",
    "print(f'Błąd dla 4 węzłów: {error_4}')\n"
   ]
  },
  {
   "cell_type": "code",
   "execution_count": 33,
   "id": "1a8dfa85-eec0-4b76-86b4-25a390499395",
   "metadata": {
    "collapsed": true,
    "jupyter": {
     "outputs_hidden": true,
     "source_hidden": true
    }
   },
   "outputs": [
    {
     "ename": "TypeError",
     "evalue": "f() takes 1 positional argument but 2 were given",
     "output_type": "error",
     "traceback": [
      "\u001b[1;31m---------------------------------------------------------------------------\u001b[0m",
      "\u001b[1;31mTypeError\u001b[0m                                 Traceback (most recent call last)",
      "Cell \u001b[1;32mIn[33], line 16\u001b[0m\n\u001b[0;32m     14\u001b[0m \u001b[38;5;66;03m# Funkcja całkująca dla 2 węzłów\u001b[39;00m\n\u001b[0;32m     15\u001b[0m nodes_2, weights_2 \u001b[38;5;241m=\u001b[39m np\u001b[38;5;241m.\u001b[39mpolynomial\u001b[38;5;241m.\u001b[39mlegendre\u001b[38;5;241m.\u001b[39mleggauss(\u001b[38;5;241m2\u001b[39m)\n\u001b[1;32m---> 16\u001b[0m integral_2, error_2 \u001b[38;5;241m=\u001b[39m \u001b[43mfixed_quad\u001b[49m\u001b[43m(\u001b[49m\u001b[43mf\u001b[49m\u001b[43m,\u001b[49m\u001b[43m \u001b[49m\u001b[43ma\u001b[49m\u001b[43m,\u001b[49m\u001b[43m \u001b[49m\u001b[43mb\u001b[49m\u001b[43m,\u001b[49m\u001b[43m \u001b[49m\u001b[43margs\u001b[49m\u001b[38;5;241;43m=\u001b[39;49m\u001b[43m(\u001b[49m\u001b[43mnodes_2\u001b[49m\u001b[43m,\u001b[49m\u001b[43m)\u001b[49m\u001b[43m)\u001b[49m\n\u001b[0;32m     18\u001b[0m \u001b[38;5;66;03m# Funkcja całkująca dla 4 węzłów\u001b[39;00m\n\u001b[0;32m     19\u001b[0m nodes_4, weights_4 \u001b[38;5;241m=\u001b[39m np\u001b[38;5;241m.\u001b[39mpolynomial\u001b[38;5;241m.\u001b[39mlegendre\u001b[38;5;241m.\u001b[39mleggauss(\u001b[38;5;241m4\u001b[39m)\n",
      "File \u001b[1;32m~\\AppData\\Local\\Programs\\Python\\Python311\\Lib\\site-packages\\scipy\\integrate\\_quadrature.py:243\u001b[0m, in \u001b[0;36mfixed_quad\u001b[1;34m(func, a, b, args, n)\u001b[0m\n\u001b[0;32m    240\u001b[0m     \u001b[38;5;28;01mraise\u001b[39;00m \u001b[38;5;167;01mValueError\u001b[39;00m(\u001b[38;5;124m\"\u001b[39m\u001b[38;5;124mGaussian quadrature is only available for \u001b[39m\u001b[38;5;124m\"\u001b[39m\n\u001b[0;32m    241\u001b[0m                      \u001b[38;5;124m\"\u001b[39m\u001b[38;5;124mfinite limits.\u001b[39m\u001b[38;5;124m\"\u001b[39m)\n\u001b[0;32m    242\u001b[0m y \u001b[38;5;241m=\u001b[39m (b\u001b[38;5;241m-\u001b[39ma)\u001b[38;5;241m*\u001b[39m(x\u001b[38;5;241m+\u001b[39m\u001b[38;5;241m1\u001b[39m)\u001b[38;5;241m/\u001b[39m\u001b[38;5;241m2.0\u001b[39m \u001b[38;5;241m+\u001b[39m a\n\u001b[1;32m--> 243\u001b[0m \u001b[38;5;28;01mreturn\u001b[39;00m (b\u001b[38;5;241m-\u001b[39ma)\u001b[38;5;241m/\u001b[39m\u001b[38;5;241m2.0\u001b[39m \u001b[38;5;241m*\u001b[39m np\u001b[38;5;241m.\u001b[39msum(w\u001b[38;5;241m*\u001b[39m\u001b[43mfunc\u001b[49m\u001b[43m(\u001b[49m\u001b[43my\u001b[49m\u001b[43m,\u001b[49m\u001b[43m \u001b[49m\u001b[38;5;241;43m*\u001b[39;49m\u001b[43margs\u001b[49m\u001b[43m)\u001b[49m, axis\u001b[38;5;241m=\u001b[39m\u001b[38;5;241m-\u001b[39m\u001b[38;5;241m1\u001b[39m), \u001b[38;5;28;01mNone\u001b[39;00m\n",
      "\u001b[1;31mTypeError\u001b[0m: f() takes 1 positional argument but 2 were given"
     ]
    }
   ],
   "source": [
    "# Version 3\n",
    "import numpy as np\n",
    "from scipy.integrate import fixed_quad\n",
    "\n",
    "# Funkcja do całkowania\n",
    "def f(x):\n",
    "    return np.log(x) / (x**2 - 2*x + 2)\n",
    "\n",
    "# Przekształcenie granic całkowania\n",
    "a, b = 1, np.pi\n",
    "t_a = -1\n",
    "t_b = 1\n",
    "\n",
    "# Funkcja całkująca dla 2 węzłów\n",
    "nodes_2, weights_2 = np.polynomial.legendre.leggauss(2)\n",
    "integral_2, error_2 = fixed_quad(f, a, b, args=(nodes_2,))\n",
    "\n",
    "# Funkcja całkująca dla 4 węzłów\n",
    "nodes_4, weights_4 = np.polynomial.legendre.leggauss(4)\n",
    "integral_4, error_4 = fixed_quad(f, a, b, args=(nodes_4,))\n",
    "\n",
    "# Wyświetlenie wyników\n",
    "print(f'Wynik dla 2 węzłów: {integral_2}')\n",
    "print(f'Błąd dla 2 węzłów: {error_2}')\n",
    "print(f'Wynik dla 4 węzłów: {integral_4}')\n",
    "print(f'Błąd dla 4 węzłów: {error_4}')\n"
   ]
  },
  {
   "cell_type": "markdown",
   "id": "6780cd35",
   "metadata": {},
   "source": [
    "#### Zadanie 7:\n",
    "\n",
    "Oblicz całkę\n",
    "\n",
    "\n",
    "$$\\int\\limits^1_{-1}\\frac{\\cos\\,x-e^x}{\\sin\\,x}dx$$\n",
    "\n",
    "z co najmniej 10 dokładnymi cyframi dziesiętnymi\n",
    "\n",
    "#### Rozwiązanie:"
   ]
  },
  {
   "cell_type": "code",
   "execution_count": 52,
   "id": "d6ce23cc",
   "metadata": {},
   "outputs": [
    {
     "name": "stdout",
     "output_type": "stream",
     "text": [
      "The result of the integral: -0.8702675257258207\n",
      "The estimated error: 4.028999356364693e-13\n"
     ]
    }
   ],
   "source": [
    "from scipy import integrate\n",
    "import numpy as np\n",
    "\n",
    "def f(x):\n",
    "    return (np.cos(x) - np.exp(x)) * np.arcsin(x)\n",
    "\n",
    "lower_limit = -1\n",
    "upper_limit = 1\n",
    "\n",
    "result, error = integrate.quad(f, lower_limit, upper_limit, epsrel=1e-10, epsabs=1e-10)\n",
    "\n",
    "print(f'The result of the integral: {result}')\n",
    "print(f'The estimated error: {error}')\n"
   ]
  },
  {
   "cell_type": "markdown",
   "id": "710993f4",
   "metadata": {},
   "source": [
    "#### Zadanie 8:\n",
    "\n",
    "Oblicz numerycznie całkę\n",
    "\n",
    "$$\\int\\limits_0^1dx\\int\\limits_0^xdy\\sin(\\pi\\,x)\\sin(\\pi(y-x))$$\n",
    "\n",
    "#### Rozwiązanie:"
   ]
  },
  {
   "cell_type": "code",
   "execution_count": null,
   "id": "1742cb70",
   "metadata": {},
   "outputs": [],
   "source": []
  }
 ],
 "metadata": {
  "kernelspec": {
   "display_name": "Python 3 (ipykernel)",
   "language": "python",
   "name": "python3"
  },
  "language_info": {
   "codemirror_mode": {
    "name": "ipython",
    "version": 3
   },
   "file_extension": ".py",
   "mimetype": "text/x-python",
   "name": "python",
   "nbconvert_exporter": "python",
   "pygments_lexer": "ipython3",
   "version": "3.11.3"
  }
 },
 "nbformat": 4,
 "nbformat_minor": 5
}
