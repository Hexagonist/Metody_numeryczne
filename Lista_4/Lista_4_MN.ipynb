{
  "cells": [
    {
      "cell_type": "markdown",
      "source": [
        "### Metody numeryczne 1 - Lista 4"
      ],
      "metadata": {},
      "id": "a69880d2"
    },
    {
      "cell_type": "markdown",
      "source": [
        "#### Zadanie 1:\n",
        "\n",
        "Znajdź wszystkie pierwiastki funkcji\n",
        "\n",
        "$$f ( x) = 2 x^4 + 24 x^3 + 61x^2 -16 x +1$$\n",
        "\n",
        "korzystając z metody Riddera z modułu Scipy.\n",
        "\n",
        "#### Rozwiązanie:"
      ],
      "metadata": {},
      "id": "cc6c8639"
    },
    {
      "cell_type": "code",
      "source": [
        "# Mateusz Wójcicki ISSP sem 3\n",
        "\n",
        "import numpy as np\n",
        "from scipy import optimize\n",
        "\n",
        "def f(x):\n",
        "    return (2*x**4+24*x**3+61*x**2-16*x+1)\n",
        "\n",
        "\n",
        "roots = []\n",
        "\n",
        "i = -10\n",
        "while i <= 10:\n",
        "    try:\n",
        "        root = optimize.ridder(f, i, i+0.0001)\n",
        "        roots.append(root)\n",
        "\n",
        "    except: \n",
        "        pass\n",
        "    \n",
        "    i += 0.0001\n",
        "\n",
        "# Roounding to 4 digits after coma to delete duplicates in future\n",
        "for i in range(len(roots)):\n",
        "    roots[i] = round(roots[i], 4)\n",
        "    \n",
        "# Deleting duplicates\n",
        "roots = list(dict.fromkeys(roots))\n",
        "\n",
        "print(roots)\n"
      ],
      "outputs": [
        {
          "output_type": "stream",
          "name": "stdout",
          "text": "[-8.1231, -4.1213, 0.1213, 0.1231]\n"
        }
      ],
      "execution_count": 17,
      "metadata": {},
      "id": "1ca2b469"
    },
    {
      "cell_type": "markdown",
      "source": [
        "#### Zadanie 2:\n",
        "\n",
        "Korzystając z metody Newtona napisz program do obliczania pierwiastka piątego stopnia z dowolnej liczby dodatniej.  \n",
        "\n",
        "#### Rozwiązanie:"
      ],
      "metadata": {},
      "id": "3ae8b832"
    },
    {
      "cell_type": "code",
      "source": [
        "def fifth_root_newton(x, epsilon=1e-6, max_iterations=100):\n",
        "\n",
        "    # Initial guess \n",
        "    guess = 1\n",
        "\n",
        "    for i in range(max_iterations):\n",
        "        # Newton's method update formula\n",
        "        guess = 0.2 * (4 * guess + x / guess**4)\n",
        "        print(guess)\n",
        "        \n",
        "        # Check for convergence\n",
        "        if abs(guess**5 - x) < epsilon:\n",
        "            return guess\n",
        "\n",
        "    # If the method doesn't converge, raise an exception\n",
        "    raise ValueError(\"Newton's method did not converge\")\n",
        "\n",
        "\n",
        "x = 32\n",
        "result = fifth_root_newton(x)\n",
        "\n",
        "print(f\"The fifth root of {x} is approximately {result}\")"
      ],
      "outputs": [
        {
          "output_type": "stream",
          "name": "stdout",
          "text": "7.2\n5.762381496723061\n4.615709792667914\n3.7066680575158664\n2.999237997339904\n2.4784830713762545\n2.1523904788609025\n2.020104202537039\n2.0003961939397454\n2.0000001569074692\n2.0000000000000244\nThe fifth root of 32 is approximately 2.0000000000000244\n"
        }
      ],
      "execution_count": 18,
      "metadata": {},
      "id": "c88a1502"
    },
    {
      "cell_type": "markdown",
      "source": [
        "#### Zadanie 3:\n",
        "\n",
        "Prędkość $v$ rakiety Saturn V w locie pionowym tuż przy powierzchni Ziemi można przybliżyć wzorem\n",
        "\n",
        "$$v=u\\ln\\frac{M_0}{M_0-\\dot{m}t}-gt\\,$$\n",
        "\n",
        "gdzie\n",
        "\n",
        "- $u=2510\\,$m/s - prędkość spalin względem rakiety,\n",
        "- $M_0=2.8\\times 10^6\\,$kg - masa rakiety w momencie oderwania od Ziemi,\n",
        "- $\\dot{m}=13.3\\times10^3\\,$kg/s - szybkość zużycia paliwa,\n",
        "- $g=9.81\\,$m/s$^2$ - przyspieszenie ziemskie\n",
        "- $t$ - czas mierzony od oderwania od Ziemi\n",
        "\n",
        "Wyznacz czas, po jakim rakieta osiągnie prędkość dźwięku (335$\\,$m/s).\n",
        "\n",
        "#### Rozwiązanie:"
      ],
      "metadata": {},
      "id": "ba138c35"
    },
    {
      "cell_type": "code",
      "source": [
        "def f(t):\n",
        "    u = 2510\n",
        "    M = 2.8*10**6\n",
        "    m = 13.3*10**3\n",
        "    g = 9.81\n",
        "    v = 335\n",
        "    return (u * np.log(M/(M-m*t)) - g*t - v)\n",
        "\n",
        "\n",
        "roots = []\n",
        "\n",
        "# Solving equation using Ridder's method\n",
        "i = -220\n",
        "while i <= 100:\n",
        "    try:\n",
        "        root = optimize.ridder(f, i, i+0.001)\n",
        "        roots.append(root)\n",
        "\n",
        "    except: \n",
        "        pass\n",
        "    \n",
        "    i += 0.001\n",
        "\n",
        "\n",
        "# Discarding roots that after function check return value >= epsilon=10^-6 or if root<0\n",
        "for t in roots:\n",
        "    if abs(f(t)) >= 1e-6: roots.remove(t)\n",
        "    if int(t) < 0: roots.remove(t)\n",
        "    \n",
        "print(f\"t = {roots[0]}\")"
      ],
      "outputs": [
        {
          "output_type": "stream",
          "name": "stdout",
          "text": "t = 70.87797226808107\n"
        }
      ],
      "execution_count": 19,
      "metadata": {},
      "id": "4d37afb3"
    },
    {
      "cell_type": "markdown",
      "source": [
        "#### Zadanie 4:\n",
        "\n",
        "Znajdź pierwiastki układu równań\n",
        "\n",
        "$$\\begin{eqnarray}\n",
        "x+e^{-x}+y^3&=& 0\\\\\n",
        "x^2+2xy-y^2+\\tan x&=& 0\n",
        "\\end{eqnarray}$$\n",
        "\n",
        "leżące w kole o promieniu 2 i środku w $(0,0)$.\n",
        "\n",
        "#### Rozwiązanie:"
      ],
      "metadata": {},
      "id": "667b95db"
    },
    {
      "cell_type": "code",
      "source": [
        "# y = sqrt3(-x-e^-x)\n",
        "# x^2 + 2*x*sqrt3(-x-e^-x) - (sqrt3(-x-e^-x))^2 + tanx = 0\n",
        "\n",
        "def f(x):\n",
        "    # f(x) = x^2 + 2*x*sqrt3(-x-e^-x) - (sqrt3(-x-e^-x))^2 + tanx\n",
        "    # y = ( -x-np.exp(-x) )**(1/3) \n",
        "    y = np.copysign(np.abs(-x-np.exp(-x)) ** (1. / 3), -x-np.exp(-x)) # solving root of the third kind\n",
        "    return (x**2 + 2*x*y - y**2 + np.tan(x))\n",
        "\n",
        "def g(x):\n",
        "    # g(x) = ( -x-np.exp(-x) )**(1/3)\n",
        "    return (np.copysign(np.abs(-x-np.exp(-x)) ** (1. / 3), -x-np.exp(-x)))\n",
        "\n",
        "\n",
        "def circle(x, y):\n",
        "    return (x**2 + y**2)\n",
        "\n",
        "\n",
        "roots = []\n",
        "\n",
        "# Solving equation using Ridder's method\n",
        "i = -2\n",
        "while i <= 2:\n",
        "    try:\n",
        "        root = optimize.ridder(f, i, i+0.0001)\n",
        "        roots.append(root)\n",
        "\n",
        "    except: \n",
        "        pass\n",
        "    \n",
        "    i += 0.0001\n",
        "\n",
        "\n",
        "# Calculating values\n",
        "values = []\n",
        "for x in roots:\n",
        "    values.append(g(x))\n",
        "\n",
        "\n",
        "results = []\n",
        "# Discarding points that are not within circle\n",
        "for i in range(0, len(roots)):\n",
        "    x, y = roots[i], values[i]\n",
        "    if np.sqrt(x**2+y**2) <= 2:\n",
        "        results.append([x, y])\n",
        "\n",
        "        \n",
        "# Discarding roots that after function check return value >= epsilon=10^-6\n",
        "for x in results:\n",
        "    if abs(f(x[0])) >= 1e-6: results.remove(x)\n",
        "        \n",
        "\n",
        "\n",
        "\n",
        "#print(roots)\n",
        "#print(values)\n",
        "print(\"Array with results:\\n\", np.array(results), \"\\n\\nRoots: \")\n",
        "for i in range(len(results)):\n",
        "    print(f\"x{i+1} = {results[i][0]}\")"
      ],
      "outputs": [
        {
          "output_type": "stream",
          "name": "stdout",
          "text": "Array with results:\n [[-1.26997419 -1.31824117]\n [-0.71116218 -1.09839831]\n [ 1.2066799  -1.14620523]] \n\nRoots: \nx1 = -1.2699741889676488\nx2 = -0.7111621792908785\nx3 = 1.2066798999916468\n"
        }
      ],
      "execution_count": 20,
      "metadata": {},
      "id": "df1a843f"
    },
    {
      "cell_type": "markdown",
      "source": [
        "#### Zadanie 5:\n",
        "\n",
        "Koszykarz o wzroście 2 m rzuca piłkę z odległości 10 m do kosza zawieszonego na wysokości $3\\,$m. Z jaką prędkością $v_0$ i pod jakim kątem $\\alpha$ powinien wyrzucić piłkę, aby wpadła do kosza pod kątem $45^\\circ$. Potraktuj piłkę\n",
        "jako punkt materialny, którego trajektorię opisują równania\n",
        "\n",
        "$$\\begin{eqnarray}\n",
        "x &=& v_0\\cos(\\alpha)t\\\\\n",
        "y &=& 2+v_0\\sin(\\alpha)t-\\frac{gt^2}{2}\n",
        "\\end{eqnarray}$$\n",
        "\n",
        "gdzie $g=9.81$ m/s$^2$ jest przyspieszeniem ziemskim, a $t$ czasem lotu piłki.\n",
        "\n",
        "#### Rozwiązanie:"
      ],
      "metadata": {},
      "id": "efb69b93"
    },
    {
      "cell_type": "code",
      "source": [
        "# Rozwiazanie krok po kroku\n",
        "# x = 10m ; y = 3m ; alfa = 45\n",
        "# fsolve\n",
        "\n",
        "import numpy as np\n",
        "from scipy.optimize import fsolve\n",
        "\n",
        "\n",
        "A = np.array([])\n",
        "b = np.array([10, 3])\n",
        "\n",
        "\n",
        "def func(v0):\n",
        "    t = 10/(v0*np.cos(np.deg2rad(45)))\n",
        "    return -1 + v0*np.sin(np.deg2rad(45))*t - (9.81*t**2)/2\n",
        "    \n",
        "\n",
        "# Solving equations using fsolve method\n",
        "\n",
        "roots = fsolve(func, 20)\n",
        "t = 10/(roots[0]*np.cos(np.deg2rad(45)))\n",
        "angle = np.rad2deg(np.cos(1/(np.sqrt(2))))\n",
        "\n",
        "\n",
        "print(f\"Result: \\n v0 = {roots[0]}\\n t = {t}\\n alpha = {angle}\")"
      ],
      "outputs": [
        {
          "output_type": "stream",
          "name": "stdout",
          "text": "Result: \n v0 = 10.440306508910211\n t = 1.3545709229572365\n alpha = 43.55880681005742\n"
        }
      ],
      "execution_count": 15,
      "metadata": {},
      "id": "690f5dc1-a0e5-4506-80e7-3d8fc00c1188"
    },
    {
      "cell_type": "markdown",
      "source": [
        "#### Zadanie 6:\n",
        "\n",
        "Korzystając z dowolnej metody wyznacz wszystkie rozwiązania rzeczywiste układu równań\n",
        "\n",
        "\n",
        "$$\\begin{eqnarray}\n",
        "\\tan x-y&=& 1\\\\\n",
        "\\cos x-3\\sin y&=& 0\n",
        "\\end{eqnarray}$$\n",
        "\n",
        "dla $0\\leq x\\leq 1.5\\,$.\n",
        "\n",
        "#### Rozwiązanie:"
      ],
      "metadata": {},
      "id": "c726dd0b"
    },
    {
      "cell_type": "code",
      "source": [
        "def f(x):\n",
        "    y = np.tan(x) - 1\n",
        "    \n",
        "    return (np.cos(x)-3*np.sin(y))\n",
        "\n",
        "\n",
        "roots = []\n",
        "x = 0\n",
        "while x <= 1.5:\n",
        "    try:\n",
        "        root = optimize.ridder(f, x, x+0.0001)\n",
        "        roots.append(root)\n",
        "\n",
        "    except: \n",
        "        pass\n",
        "    \n",
        "    x += 0.0001\n",
        "\n",
        "print(roots)"
      ],
      "outputs": [
        {
          "output_type": "stream",
          "name": "stdout",
          "text": "[0.8815925944949566, 1.3294021265331413, 1.435176095359022, 1.474871604039329, 1.4973496737113596]\n"
        }
      ],
      "execution_count": 22,
      "metadata": {},
      "id": "906709eb"
    },
    {
      "cell_type": "markdown",
      "source": [
        "#### Zadanie 7:\n",
        "\n",
        "Znajdź wszystkie pierwiastki wielomianu\n",
        "\n",
        "$$w(x)=x^4+(5+i)x^3-(8-5i)x^2+(30-14i)x-84$$\n",
        "\n",
        "#### Rozwiązanie:"
      ],
      "metadata": {},
      "id": "d23d78ed"
    },
    {
      "cell_type": "code",
      "source": [
        "# Creating array of polynomial coefficients\n",
        "p = [1, (5+1j), (-8+5j), (30-14j), -84]\n",
        "\n",
        "results = np.roots(p)\n",
        "for i in range(len(results)):\n",
        "    print(f\"x{i+1} = {results[i]}\")"
      ],
      "outputs": [
        {
          "output_type": "stream",
          "name": "stdout",
          "text": "x1 = (-7.000000000000002+0j)\nx2 = (5.851883817201576e-16-2.9999999999999942j)\nx3 = (1.999999999999997+3.5038630692924374e-16j)\nx4 = (3.103219225443062e-16+1.9999999999999996j)\n"
        }
      ],
      "execution_count": 24,
      "metadata": {},
      "id": "1133733d"
    }
  ],
  "metadata": {
    "kernelspec": {
      "display_name": "Python 3 (ipykernel)",
      "language": "python",
      "name": "python3"
    },
    "language_info": {
      "codemirror_mode": {
        "name": "ipython",
        "version": 3
      },
      "file_extension": ".py",
      "mimetype": "text/x-python",
      "name": "python",
      "nbconvert_exporter": "python",
      "pygments_lexer": "ipython3",
      "version": "3.11.3"
    },
    "nteract": {
      "version": "nteract-front-end@1.0.0"
    }
  },
  "nbformat": 4,
  "nbformat_minor": 5
}