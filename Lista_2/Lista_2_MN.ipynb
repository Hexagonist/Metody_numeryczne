{
  "cells": [
    {
      "cell_type": "markdown",
      "source": [
        "### Metody numeryczne 1 - Lista 2"
      ],
      "metadata": {},
      "id": "a63487e2"
    },
    {
      "cell_type": "markdown",
      "source": [
        "#### Zadanie 1:\n",
        "\n",
        "Znajdź, bez używania komputera, reprezentację binarną liczby $1/10$ w 32-bitowym formacie IEEE\n",
        "\n",
        "#### Rozwiązanie - na osobnej kartce"
      ],
      "metadata": {},
      "id": "89944d84"
    },
    {
      "cell_type": "markdown",
      "source": [
        "#### Zadanie 2:\n",
        "Znajdź najbliższą liczbę maszynową dla 2/7 i błąd względny takiego przybliżenia.\n",
        "\n",
        "#### Rozwiązanie - na osobnej kartce"
      ],
      "metadata": {},
      "id": "5e9b8586"
    },
    {
      "cell_type": "markdown",
      "source": [
        "#### Zadanie 3:\n",
        "\n",
        "Napisz program do obliczania dwóch matematycznie równoważnych wyrażeń\n",
        "\n",
        "$$\\sqrt{x^2+1}-1\\$$ \n",
        "\n",
        "i\n",
        "\n",
        "$$\\frac{x^2}{\\sqrt{x^2+1}+1}\\,.$$\n",
        "\n",
        "Które z nich daje wiarygodne wyniki dla $x=2^{-n}$ i $n=2,\\ 4,\\ 6,...,\\ 24$?\n",
        "\n",
        "#### Rozwiązanie:"
      ],
      "metadata": {},
      "id": "84cd3dd6"
    },
    {
      "cell_type": "code",
      "source": [
        "X = []\n",
        "result1 = []\n",
        "result2 = []\n",
        "for n in range(2, 27):\n",
        "    X.append(pow(2, -n))\n",
        "\n",
        "for x in X:\n",
        "    result1.append(pow(pow(x, 2)+1, 0.5) - 1)\n",
        "    result2.append(pow(x, 2)/(pow(pow(x, 2)+1, 0.5) + 1))\n",
        "\n",
        "\n",
        "    \n",
        "print(X, \"First equation results:\", result1, \"Second equation results:\", result2, sep='\\n\\n\\n')\n",
        "# Lepsze wyniki sa przy metodzie 2, poniewaz w pierwszej przy potedze 26, gdzie wynikiem jest bardzo maly ulamek - program zwraca 0. \n",
        "# Metoda 2 jeszcze podaje wynik."
      ],
      "outputs": [
        {
          "output_type": "stream",
          "name": "stdout",
          "text": "[0.25, 0.125, 0.0625, 0.03125, 0.015625, 0.0078125, 0.00390625, 0.001953125, 0.0009765625, 0.00048828125, 0.000244140625, 0.0001220703125, 6.103515625e-05, 3.0517578125e-05, 1.52587890625e-05, 7.62939453125e-06, 3.814697265625e-06, 1.9073486328125e-06, 9.5367431640625e-07, 4.76837158203125e-07, 2.384185791015625e-07, 1.1920928955078125e-07, 5.960464477539063e-08, 2.9802322387695312e-08, 1.4901161193847656e-08]\n\n\nFirst equation results:\n\n\n[0.030776406404415146, 0.0077822185373186414, 0.001951221367587408, 0.000488162098882583, 0.00012206286282867573, 3.0517112477923547e-05, 7.629365427641588e-06, 1.9073468138230965e-06, 4.768370445162873e-07, 1.1920928244535389e-07, 2.9802321943606103e-08, 7.450580596923828e-09, 1.862645149230957e-09, 4.656612873077393e-10, 1.1641532182693481e-10, 2.9103830456733704e-11, 7.275957614183426e-12, 1.8189894035458565e-12, 4.547473508864641e-13, 1.1368683772161603e-13, 2.842170943040401e-14, 7.105427357601002e-15, 1.7763568394002505e-15, 4.440892098500626e-16, 0.0]\n\n\nSecond equation results:\n\n\n[0.030776406404415133, 0.0077822185373187065, 0.0019512213675873353, 0.0004881620988826073, 0.00012206286282875901, 3.0517112477923005e-05, 7.629365427641587e-06, 1.907346813826566e-06, 4.768370445163415e-07, 1.1920928244535474e-07, 2.9802321943606116e-08, 7.4505805691682525e-09, 1.8626451474962336e-09, 4.6566128719931904e-10, 1.1641532182015855e-10, 2.9103830456310187e-11, 7.275957614156956e-12, 1.8189894035442021e-12, 4.547473508863607e-13, 1.1368683772160957e-13, 2.8421709430403604e-14, 7.105427357600977e-15, 1.7763568394002489e-15, 4.440892098500625e-16, 1.1102230246251565e-16]\n"
        }
      ],
      "execution_count": 1,
      "metadata": {},
      "id": "db0f5331"
    },
    {
      "cell_type": "markdown",
      "source": [
        "#### Zadanie 4:\n",
        "\n",
        "Znajdź sposób obliczania wyrażenia\n",
        "\n",
        "$$\\sqrt{x^2+4}-2$$\n",
        "\n",
        "bez straty dokładności.\n",
        "\n",
        "#### Rozwiązanie - na osobnej kartce"
      ],
      "metadata": {},
      "id": "58661e91-0d70-478b-8e32-e82f6af4182e"
    },
    {
      "cell_type": "markdown",
      "source": [
        "#### Zadanie 5:\n",
        "\n",
        "Oblicz całki typu\n",
        "\n",
        "$$I_n=\\int\\limits_0^1 x^n e^x\\,dx$$\n",
        "\n",
        "dla $n=2,\\ 3,\\ ...,\\ 20$, korzystając z rekurencyjnego związku\n",
        "\n",
        "$$I_{n+1}=e-(n+1)I_n\\,,\\qquad I_1=1$$\n",
        "\n",
        "Które wyniki nie są poprawne i dlaczego?\n",
        "\n",
        "#### Rozwiązanie:"
      ],
      "metadata": {},
      "id": "33ea4d3e"
    },
    {
      "cell_type": "code",
      "source": [
        "import math\n",
        "\n",
        "\n",
        "I = [1]\n",
        "\n",
        "\n",
        "for n in range(1, 21):\n",
        "    I.append(math.e-(n+1)*I[n-1])\n",
        "\n",
        "print( \"Wyniki:\", I, sep='\\n\\n')\n",
        "print(I[17])\n",
        "# Działa do n = 15, a później podaje coraz mniej dokładne wyniki, gdzie przy n=18 wszystko całkowicie się sypie \n",
        "# i podaje całkiem nieprawdopodobne liczby ze zmienionym znakiem, całkiem możliwe, że z powodu przekroczenia \n",
        "# limitu bitow przeznaczonych na liczbę"
      ],
      "outputs": [
        {
          "output_type": "stream",
          "name": "stdout",
          "text": "Wyniki:\n\n[1, 0.7182818284590451, 0.5634363430819098, 0.4645364561314058, 0.395599547802016, 0.34468454164694906, 0.30549003693040166, 0.27436153301583177, 0.24902803131655915, 0.22800151529345358, 0.21026516023105568, 0.19509990568637692, 0.18198305453614516, 0.17051906495301283, 0.1604958541638526, 0.15034816183740363, 0.16236307722318344, -0.2042535615582568, 6.599099498065924, -129.26370813285942, 2717.256152618507]\n-0.2042535615582568\n"
        }
      ],
      "execution_count": 5,
      "metadata": {},
      "id": "4f3efee4"
    },
    {
      "cell_type": "code",
      "source": [],
      "outputs": [],
      "execution_count": null,
      "metadata": {},
      "id": "003b1aae-84a6-4d8e-b679-1fcdf83ead5f"
    }
  ],
  "metadata": {
    "kernelspec": {
      "display_name": "Python 3 (ipykernel)",
      "language": "python",
      "name": "python3"
    },
    "language_info": {
      "codemirror_mode": {
        "name": "ipython",
        "version": 3
      },
      "file_extension": ".py",
      "mimetype": "text/x-python",
      "name": "python",
      "nbconvert_exporter": "python",
      "pygments_lexer": "ipython3",
      "version": "3.11.3"
    },
    "nteract": {
      "version": "nteract-front-end@1.0.0"
    }
  },
  "nbformat": 4,
  "nbformat_minor": 5
}