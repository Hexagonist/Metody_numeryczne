{
 "cells": [
  {
   "cell_type": "markdown",
   "id": "a63487e2",
   "metadata": {},
   "source": [
    "### Metody numeryczne 1 - Lista 8"
   ]
  },
  {
   "cell_type": "markdown",
   "id": "89944d84",
   "metadata": {},
   "source": [
    "#### Zadanie 1:\n",
    "\n",
    "Oblicz wartości i wektory własne macierzy\n",
    "\n",
    "$$\\begin{pmatrix} -1& -4& 1\\\\\n",
    "-1& -2& -5\\\\\n",
    "5 & 4& 3\\end{pmatrix}$$\n",
    "\n",
    "\n",
    "#### Rozwiązanie:"
   ]
  },
  {
   "cell_type": "code",
   "execution_count": 1,
   "id": "c764111b-2194-43f2-92fd-22f40dbed248",
   "metadata": {},
   "outputs": [
    {
     "name": "stdout",
     "output_type": "stream",
     "text": [
      "Wartości własne:\n",
      "[ 4.+0.j -2.+4.j -2.-4.j]\n",
      "\n",
      "Wektory własne:\n",
      "[[-5.77350269e-01+0.00000000e+00j  5.77350269e-01+0.00000000e+00j\n",
      "   5.77350269e-01-0.00000000e+00j]\n",
      " [ 5.77350269e-01+0.00000000e+00j -5.78218248e-16-5.77350269e-01j\n",
      "  -5.78218248e-16+5.77350269e-01j]\n",
      " [-5.77350269e-01+0.00000000e+00j -5.77350269e-01-5.39355242e-16j\n",
      "  -5.77350269e-01+5.39355242e-16j]]\n"
     ]
    }
   ],
   "source": [
    "# Mateusz Wójcicki ISSP sem 3\n",
    "\n",
    "import numpy as np\n",
    "from scipy.linalg import eig\n",
    "\n",
    "# Definiowanie macierzy\n",
    "A = np.array([[-1, -4, 1],\n",
    "              [-1, -2, -5],\n",
    "              [5, 4, 3]])\n",
    "\n",
    "# Obliczanie wartości własnych i wektorów własnych\n",
    "eigenvalues, eigenvectors = eig(A)\n",
    "\n",
    "# Wyświetlanie wyników\n",
    "print(\"Wartości własne:\")\n",
    "print(eigenvalues)\n",
    "\n",
    "print(\"\\nWektory własne:\")\n",
    "print(eigenvectors)"
   ]
  },
  {
   "cell_type": "markdown",
   "id": "736b7c02",
   "metadata": {},
   "source": [
    "#### Zadanie 2:\n",
    "\n",
    "Korzystając z modułu *Scipy* oblicz wszystkie wartości własne i wektory własne macierzy Hilberta $6\\times6$.\n",
    "\n",
    "#### Rozwiązanie:"
   ]
  },
  {
   "cell_type": "code",
   "execution_count": 2,
   "id": "86e75c63",
   "metadata": {},
   "outputs": [
    {
     "name": "stdout",
     "output_type": "stream",
     "text": [
      "Wartości własne:\n",
      "[1.61889986e+00+0.j 2.42360871e-01+0.j 1.63215213e-02+0.j\n",
      " 6.15748354e-04+0.j 1.25707571e-05+0.j 1.08279948e-07+0.j]\n",
      "\n",
      "Wektory własne:\n",
      "[[-0.74871922 -0.61454483  0.24032537 -0.06222659 -0.01114432 -0.00124819]\n",
      " [-0.4407175   0.21108248 -0.69765138  0.49083921  0.17973276  0.03560664]\n",
      " [-0.32069687  0.36589361 -0.23138937 -0.53547692 -0.60421221 -0.24067908]\n",
      " [-0.25431139  0.39470678  0.13286316 -0.41703769  0.44357472  0.62546039]\n",
      " [-0.21153084  0.38819043  0.36271492  0.04703402  0.44153664 -0.6898072 ]\n",
      " [-0.18144298  0.37069591  0.50276287  0.54068156 -0.45911482  0.27160545]]\n"
     ]
    }
   ],
   "source": [
    "import numpy as np\n",
    "from scipy.linalg import hilbert, eig\n",
    "\n",
    "# Generowanie macierzy Hilberta 6x6\n",
    "hilbert_matrix = hilbert(6)\n",
    "\n",
    "# Obliczenie wartości własnych i wektorów własnych\n",
    "eigenvalues, eigenvectors = eig(hilbert_matrix)\n",
    "\n",
    "# Wyświetlenie wyników\n",
    "print(\"Wartości własne:\")\n",
    "print(eigenvalues)\n",
    "\n",
    "print(\"\\nWektory własne:\")\n",
    "print(eigenvectors)\n"
   ]
  },
  {
   "cell_type": "markdown",
   "id": "5e9b8586",
   "metadata": {},
   "source": [
    "#### Zadanie 3:\n",
    "\n",
    "Oblicz trzy najmniejsze wartości własne i odpowiadające im wektory własne macierzy trójdiagonalnej $n\\times n$\n",
    "\n",
    "$$\\begin{pmatrix} 2& -1& 0 & \\dots & 0 \\\\\n",
    "-1& 2& -1 & \\dots & 0\\\\\n",
    "0 & -1 & 2& \\dots & 0\\\\\n",
    "\\vdots & \\vdots & \\ddots & \\ddots & \\vdots\\\\\n",
    "0 & 0 & \\dots -1 & 2\n",
    "\\end{pmatrix}$$\n",
    "\n",
    "\n",
    "dla $n=10$ i $100$\n",
    "\n",
    "#### Rozwiązanie:"
   ]
  },
  {
   "cell_type": "code",
   "execution_count": 3,
   "id": "e95a9420",
   "metadata": {},
   "outputs": [
    {
     "name": "stdout",
     "output_type": "stream",
     "text": [
      "Najmniejsze trzy wartości własne dla n = 10:\n",
      "[0.08101405 0.31749293 0.69027853]\n",
      "\n",
      "Najmniejsze trzy wartości własne dla n = 100:\n",
      "[0.00096744 0.00386881 0.0087013 ]\n"
     ]
    }
   ],
   "source": [
    "import numpy as np\n",
    "from scipy.linalg import eigh_tridiagonal\n",
    "\n",
    "def tridiagonal_eigenproblem(n):\n",
    "    \n",
    "    # Tworzenie macierzy trójdiagonalnej\n",
    "    diagonal = 2 * np.ones(n)\n",
    "    off_diagonal = -1 * np.ones(n - 1)\n",
    "\n",
    "    # Obliczenie wartości własnych i wektorów własnych\n",
    "    eigenvalues, eigenvectors = eigh_tridiagonal(diagonal, off_diagonal, select='i', select_range=(0, 2))\n",
    "\n",
    "    return eigenvalues, eigenvectors\n",
    "\n",
    "# Dla n = 10\n",
    "n_10_eigenvalues, n_10_eigenvectors = tridiagonal_eigenproblem(10)\n",
    "\n",
    "print(\"Najmniejsze trzy wartości własne dla n = 10:\")\n",
    "print(n_10_eigenvalues)\n",
    "\n",
    "# Dla n = 100\n",
    "n_100_eigenvalues, n_100_eigenvectors = tridiagonal_eigenproblem(100)\n",
    "\n",
    "print(\"\\nNajmniejsze trzy wartości własne dla n = 100:\")\n",
    "print(n_100_eigenvalues)\n"
   ]
  },
  {
   "cell_type": "markdown",
   "id": "bbca94c0",
   "metadata": {},
   "source": [
    "#### Zadanie 4:\n",
    "\n",
    "Znajdź cztery najmniejsze wartości własne kwantowego oscylatora anharmonicznego, którego równanie Schrodingera ma postać\n",
    "\n",
    "$$-\\frac{1}{2}\\frac{d^2\\psi}{dx^2}+\\left(\\frac{x^2}{2}+\\lambda x^4\\right)\\psi(x)=E\\psi(x)$$\n",
    "\n",
    "z następującymi warunkami brzegowymi $y(0) = 0$ i $y(\\pi)=0$. \n",
    "\n",
    "\n",
    "**Wskazówka:** Wprowadzając siatkę równoodległych punktów\n",
    "$$x_i=-a+ih,\\quad i=0,1,\\dots\\,,m;\\quad h=\\frac{2a}{m}$$\n",
    "i zastępując drugą pochodną $\\psi$ w $x_i$ przybliżeniem różnicy centralnej\n",
    "\n",
    "$$\\frac{d^2\\psi}{dx^2}\\approx\\frac{\\psi(x_{i-1})-2\\psi(x_i)+\\psi(x_{i+1})}{h^2}=\\frac{\\psi_{i-1}-2\\psi_i+\\psi_{i+1}}{h^2}$$\n",
    "\n",
    "oraz zakładając, że $\\psi_0=\\psi_m=0$ możemy równanie Schrodingera zapisać w postaci macierzowej\n",
    "\n",
    "$$\\boldsymbol{H\\psi}=E\\boldsymbol{\\psi}\\,,$$\n",
    "\n",
    "gdzie\n",
    "\n",
    "$$\\boldsymbol{\\psi}=(\\psi_1,\\psi_2,\\dots,\\psi_{m-1})^T$$\n",
    "\n",
    "i\n",
    "\n",
    "$$\\boldsymbol{H}=\\begin{pmatrix} d_1& g& 0 & \\dots & 0 \\\\\n",
    "g& d_2& g & \\dots & 0\\\\\n",
    "0 & g & d_3& \\dots & 0\\\\\n",
    "\\vdots & \\vdots & \\ddots & \\ddots & \\vdots\\\\\n",
    "0 & 0 & \\dots & g & d_{m-1}\n",
    "\\end{pmatrix}$$\n",
    "\n",
    "z\n",
    "\n",
    "$$g=-\\frac{1}{2h^2}\\,,\\quad d_i=\\frac{1}{h^2}+\\frac{x_{i}^2}{2}+\\lambda x_i^4$$\n",
    "\n",
    "Oblicz wartości własne trójdiagonalnej macierzy $\\boldsymbol{H}$ dla $\\lambda=0.2$, $a=4.6$, $m=100$ i $1000$. Wykreśl 4 funkcje falowe (wektory własne $\\boldsymbol{H}$) dla czterech najmniejszych energii własnych.\n",
    "\n",
    "#### Rozwiązanie:"
   ]
  },
  {
   "cell_type": "code",
   "execution_count": null,
   "id": "85f7eaf9-feeb-41a1-bc9c-27592d8c7239",
   "metadata": {},
   "outputs": [],
   "source": []
  }
 ],
 "metadata": {
  "kernelspec": {
   "display_name": "Python 3 (ipykernel)",
   "language": "python",
   "name": "python3"
  },
  "language_info": {
   "codemirror_mode": {
    "name": "ipython",
    "version": 3
   },
   "file_extension": ".py",
   "mimetype": "text/x-python",
   "name": "python",
   "nbconvert_exporter": "python",
   "pygments_lexer": "ipython3",
   "version": "3.11.3"
  }
 },
 "nbformat": 4,
 "nbformat_minor": 5
}
